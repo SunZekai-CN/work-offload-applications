{
 "cells": [
  {
   "cell_type": "code",
   "execution_count": 22,
   "metadata": {},
   "outputs": [],
   "source": [
    "from utils.custom_functions import read_pickled_File\n",
    "from utils.custom_functions import extract_velocity\n",
    "import numpy as np\n",
    "import math"
   ]
  },
  {
   "cell_type": "code",
   "execution_count": null,
   "metadata": {},
   "outputs": [],
   "source": [
    "f_coo = 'DP/Trans_matxs_3D/GPU_test_3_3D_120nT_a16/GPU_test_3_3D_120nT_a16_COO'\n",
    "f_rsa = 'DP/Trans_matxs_3D/GPU_test_3_3D_120nT_a16/GPU_test_3_3D_120nT_a16_Rsa'\n",
    "\n"
   ]
  },
  {
   "cell_type": "code",
   "execution_count": null,
   "metadata": {},
   "outputs": [],
   "source": [
    "a = read_pickled_File(f_coo)"
   ]
  },
  {
   "cell_type": "code",
   "execution_count": null,
   "metadata": {
    "scrolled": true
   },
   "outputs": [],
   "source": [
    "\n",
    "a[0][:,5000:5100].T"
   ]
  },
  {
   "cell_type": "code",
   "execution_count": null,
   "metadata": {},
   "outputs": [],
   "source": [
    "type(a)"
   ]
  },
  {
   "cell_type": "code",
   "execution_count": null,
   "metadata": {},
   "outputs": [],
   "source": [
    "rsa = read_pickled_File(f_rsa)"
   ]
  },
  {
   "cell_type": "code",
   "execution_count": null,
   "metadata": {
    "scrolled": true
   },
   "outputs": [],
   "source": [
    "rsa[0][100:250]"
   ]
  },
  {
   "cell_type": "code",
   "execution_count": null,
   "metadata": {},
   "outputs": [],
   "source": [
    "rsa[0].shape"
   ]
  },
  {
   "cell_type": "code",
   "execution_count": null,
   "metadata": {},
   "outputs": [],
   "source": [
    "a[0].shape"
   ]
  },
  {
   "cell_type": "code",
   "execution_count": 2,
   "metadata": {},
   "outputs": [],
   "source": [
    "f_pol = 'Experiments/8/DP/policy'"
   ]
  },
  {
   "cell_type": "code",
   "execution_count": 3,
   "metadata": {},
   "outputs": [
    {
     "name": "stdout",
     "output_type": "stream",
     "text": [
      "READING Experiments/8/DP/policy.p\n"
     ]
    }
   ],
   "source": [
    "pol = read_pickled_File(f_pol)"
   ]
  },
  {
   "cell_type": "code",
   "execution_count": null,
   "metadata": {},
   "outputs": [],
   "source": [
    "for s in pol:\n",
    "    print(s, pol[s])"
   ]
  },
  {
   "cell_type": "code",
   "execution_count": 4,
   "metadata": {},
   "outputs": [],
   "source": [
    "f_rsa = 'DP/Trans_matxs_3D/GPU_sgrid_1_3D_120nT_a16/GPU_sgrid_1_3D_120nT_a16_Rsa'"
   ]
  },
  {
   "cell_type": "code",
   "execution_count": 5,
   "metadata": {},
   "outputs": [
    {
     "name": "stdout",
     "output_type": "stream",
     "text": [
      "READING DP/Trans_matxs_3D/GPU_sgrid_1_3D_120nT_a16/GPU_sgrid_1_3D_120nT_a16_Rsa.p\n"
     ]
    }
   ],
   "source": [
    "rsa = read_pickled_File(f_rsa)"
   ]
  },
  {
   "cell_type": "code",
   "execution_count": 9,
   "metadata": {},
   "outputs": [
    {
     "data": {
      "text/plain": [
       "array([-2.00000015e+02, -2.00000015e+02, -2.00000015e+02, -2.00000015e+02,\n",
       "       -2.00000015e+02, -2.00000015e+02, -2.00000015e+02, -2.00000015e+02,\n",
       "       -2.00000015e+02, -3.00000031e+02, -1.00000008e+02, -1.99988252e-04,\n",
       "       -1.99988252e-04, -1.81214162e-03, -3.86419632e-02, -8.31843615e-02,\n",
       "       -1.06783569e-01, -1.13481663e-01, -3.16549683e+01, -2.00000015e+02,\n",
       "       -6.69950714e+01, -1.14651293e-01, -1.12600856e-01, -1.10486679e-01,\n",
       "        3.31720428e+01,  6.68350677e+01, -1.02470092e-01, -9.94940847e-02,\n",
       "       -3.19758835e+01, -2.00000015e+02, -6.93693237e+01, -8.69851708e-02,\n",
       "       -8.37337077e-02, -8.03311914e-02, -7.58877918e-02, -7.17261285e-02,\n",
       "       -6.78318366e-02, -6.33512363e-02, -2.33377895e+01, -2.00000015e+02,\n",
       "       -8.06660767e+01, -3.85670625e-02, -3.36302519e-02, -2.91811954e-02,\n",
       "       -2.50308253e-02, -2.18570568e-02, -1.87659953e-02, -1.55442767e-02,\n",
       "       -6.61269522e+00, -2.00000015e+02, -9.65864029e+01, -1.65995734e-03,\n",
       "       -1.99988252e-04, -1.99988252e-04, -1.99988252e-04, -1.99988252e-04,\n",
       "       -1.99988252e-04, -1.99988252e-04, -1.99988252e-04, -2.00000015e+02,\n",
       "       -1.00000008e+02, -1.99988252e-04, -1.99988252e-04, -1.99988252e-04,\n",
       "       -1.99988252e-04, -1.99988252e-04, -1.99988252e-04, -1.99988252e-04,\n",
       "       -1.99988252e-04, -2.00000015e+02, -1.00000008e+02, -1.99988252e-04,\n",
       "       -1.99988252e-04, -1.99988252e-04, -1.99988252e-04, -1.99988252e-04,\n",
       "       -1.99988252e-04, -1.99988252e-04, -1.99988252e-04, -2.00000015e+02,\n",
       "       -1.00000008e+02, -1.99988252e-04, -1.99988252e-04, -1.99988252e-04,\n",
       "       -1.99988252e-04, -1.99988252e-04, -1.99988252e-04, -1.99988252e-04,\n",
       "       -1.99988252e-04, -2.00000015e+02, -1.00000008e+02, -1.00000008e+02,\n",
       "       -1.00000008e+02, -1.00000008e+02, -1.00000008e+02, -1.00000008e+02,\n",
       "       -1.00000008e+02, -1.00000008e+02, -1.00000008e+02,             nan],\n",
       "      dtype=float32)"
      ]
     },
     "execution_count": 9,
     "metadata": {},
     "output_type": "execute_result"
    }
   ],
   "source": [
    "rsa[1][100:200]"
   ]
  },
  {
   "cell_type": "code",
   "execution_count": 13,
   "metadata": {},
   "outputs": [],
   "source": [
    "data_path = '/home/rohit/Documents/Research/ICRA_2020/DG2/DG_Data/'\n",
    "all_u_mat = np.load(data_path +'all_u_mat.npy')\n",
    "all_ui_mat = np.load(data_path +'all_ui_mat.npy')\n",
    "all_v_mat = np.load(data_path +'all_v_mat.npy' )\n",
    "all_vi_mat = np.load(data_path +'all_vi_mat.npy')\n",
    "all_Yi = np.load(data_path +'all_Yi.npy' )\n",
    "vel_field_data = [all_u_mat, all_v_mat, all_ui_mat, all_vi_mat, all_Yi]\n"
   ]
  },
  {
   "cell_type": "code",
   "execution_count": 28,
   "metadata": {},
   "outputs": [],
   "source": [
    "\n",
    "vx_list =[]\n",
    "vy_list=[]\n",
    "for i in range(90,100):\n",
    "    for j in range(10):\n",
    "        for r in range(10):\n",
    "            vx, vy = extract_velocity(vel_field_data, 0, i, j, r)\n",
    "            if not math.isnan(vx):\n",
    "                vx_list.append(vx)\n",
    "            if not math.isnan(vy):\n",
    "                vy_list.append(vy)"
   ]
  },
  {
   "cell_type": "code",
   "execution_count": 31,
   "metadata": {},
   "outputs": [
    {
     "data": {
      "text/plain": [
       "5.742573017491859"
      ]
     },
     "execution_count": 31,
     "metadata": {},
     "output_type": "execute_result"
    }
   ],
   "source": [
    "np.max(vy_list)"
   ]
  },
  {
   "cell_type": "code",
   "execution_count": 32,
   "metadata": {},
   "outputs": [
    {
     "data": {
      "text/plain": [
       "0.0040404"
      ]
     },
     "execution_count": 32,
     "metadata": {},
     "output_type": "execute_result"
    }
   ],
   "source": [
    "20.202*2e-4"
   ]
  },
  {
   "cell_type": "code",
   "execution_count": null,
   "metadata": {},
   "outputs": [],
   "source": []
  }
 ],
 "metadata": {
  "kernelspec": {
   "display_name": "Python 3",
   "language": "python",
   "name": "python3"
  },
  "language_info": {
   "codemirror_mode": {
    "name": "ipython",
    "version": 3
   },
   "file_extension": ".py",
   "mimetype": "text/x-python",
   "name": "python",
   "nbconvert_exporter": "python",
   "pygments_lexer": "ipython3",
   "version": "3.7.4"
  }
 },
 "nbformat": 4,
 "nbformat_minor": 4
}
